{
 "cells": [
  {
   "cell_type": "markdown",
   "metadata": {},
   "source": [
    "# Dark Sky API (Weather)\n",
    "\n",
    "Answer the following questions using the [Dark Sky API](https://darksky.net/dev/). I've added three cells for each question but you're free to use more or less! Hold `Shift` and hit `Enter` to run a cell, and use the `+` on the top left to add a new cell to a notebook.\n",
    "\n",
    "If you spend some time reading the documentation your life will probably be a little bit easier!\n",
    "\n",
    "## 0) Import any libraries you might need\n",
    "\n",
    "- *Tip: We're going to be downloading things from the internet, so we probably need `requests`.*"
   ]
  },
  {
   "cell_type": "code",
   "execution_count": 1,
   "metadata": {},
   "outputs": [],
   "source": [
    "import requests"
   ]
  },
  {
   "cell_type": "markdown",
   "metadata": {
    "collapsed": true
   },
   "source": [
    "## 1) Make a request from the Dark Sky API for where you were born (or lived, or want to visit!).\n",
    "\n",
    "- *Tip: The URL we used in class was for a place near San Francisco. What was the format of the endpoint that made this happen?*\n",
    "- *Tip: Save the URL as a separate variable, and be sure to not have `[` and `]` inside.*\n",
    "- *Tip: How is north vs. south and east vs. west latitude/longitude represented? Is it the normal North/South/East/West?*\n",
    "- *Tip: You know it's JSON, but Python doesn't! Make sure you aren't trying to deal with plain text.* \n",
    "- *Tip: Once you've imported the JSON into a variable, check the timezone's name to make sure it seems like it got the right part of the world!*"
   ]
  },
  {
   "cell_type": "code",
   "execution_count": 2,
   "metadata": {},
   "outputs": [],
   "source": [
    "response = requests.get('https://api.darksky.net/forecast/MY_API_KEY/23.1291,113.2644')"
   ]
  },
  {
   "cell_type": "code",
   "execution_count": 3,
   "metadata": {},
   "outputs": [],
   "source": [
    "data = response.json()"
   ]
  },
  {
   "cell_type": "markdown",
   "metadata": {},
   "source": [
    "## 2) What's the current wind speed? How much warmer does it feel than it actually is?\n",
    "\n",
    "- *Tip: You can do this by browsing through the dictionaries, but it might be easier to read the documentation*\n",
    "- *Tip: For the second half: it **is** one temperature, and it **feels** a different temperature. Calculate the difference.*"
   ]
  },
  {
   "cell_type": "code",
   "execution_count": 4,
   "metadata": {},
   "outputs": [
    {
     "data": {
      "text/plain": [
       "5.04"
      ]
     },
     "execution_count": 4,
     "metadata": {},
     "output_type": "execute_result"
    }
   ],
   "source": [
    "data['currently']['windSpeed']"
   ]
  },
  {
   "cell_type": "code",
   "execution_count": 5,
   "metadata": {},
   "outputs": [
    {
     "data": {
      "text/plain": [
       "4.320000000000007"
      ]
     },
     "execution_count": 5,
     "metadata": {},
     "output_type": "execute_result"
    }
   ],
   "source": [
    "data['currently']['apparentTemperature'] - data['currently']['temperature']"
   ]
  },
  {
   "cell_type": "markdown",
   "metadata": {},
   "source": [
    "## 3) Today's forecast is the FIRST daily forecast. For the place you decided on above, how much of the moon is currently visible?\n",
    "\n",
    "- *Tip: This does **not** use the `currently` key.*\n",
    "- *Tip: It might be helpful to save the forecast into its own variable*"
   ]
  },
  {
   "cell_type": "code",
   "execution_count": 6,
   "metadata": {},
   "outputs": [
    {
     "data": {
      "text/plain": [
       "0.55"
      ]
     },
     "execution_count": 6,
     "metadata": {},
     "output_type": "execute_result"
    }
   ],
   "source": [
    "first_daily = data['daily']['data'][0]\n",
    "first_daily['moonPhase']"
   ]
  },
  {
   "cell_type": "markdown",
   "metadata": {
    "collapsed": true
   },
   "source": [
    "I don't know how much of the moon is currently visible but it's definitely less than 100%"
   ]
  },
  {
   "cell_type": "markdown",
   "metadata": {},
   "source": [
    "## 4) What's the difference between the high and low temperatures for today?"
   ]
  },
  {
   "cell_type": "code",
   "execution_count": 7,
   "metadata": {
    "scrolled": true
   },
   "outputs": [
    {
     "data": {
      "text/plain": [
       "18.33"
      ]
     },
     "execution_count": 7,
     "metadata": {},
     "output_type": "execute_result"
    }
   ],
   "source": [
    "first_daily['temperatureHigh'] - first_daily['temperatureLow']"
   ]
  },
  {
   "cell_type": "markdown",
   "metadata": {},
   "source": [
    "## 5) Go through the daily forecasts, printing out the next week's worth of predictions.\n",
    "\n",
    "I'd like to know the **high temperature** for each day, and whether it's **hot, warm, or cold** (based on what temperatures you think are hot, warm or cold).\n",
    "\n",
    "- *Tip: Is it returning F or C? You can change them by adding `?units=us` or `?units=si` onto the end of the URL.*\n",
    "- *Tip: You'll need to use an `if` statement to say whether it is hot, warm or cold.*"
   ]
  },
  {
   "cell_type": "code",
   "execution_count": 8,
   "metadata": {},
   "outputs": [],
   "source": [
    "daily = data['daily']['data']"
   ]
  },
  {
   "cell_type": "code",
   "execution_count": 9,
   "metadata": {},
   "outputs": [
    {
     "name": "stdout",
     "output_type": "stream",
     "text": [
      "1 day(s) from now, the high temperature will be 93.33. It feels hot.\n",
      "2 day(s) from now, the high temperature will be 87.88. It feels hot.\n",
      "3 day(s) from now, the high temperature will be 90.53. It feels hot.\n",
      "4 day(s) from now, the high temperature will be 89.14. It feels hot.\n",
      "5 day(s) from now, the high temperature will be 87.14. It feels hot.\n",
      "6 day(s) from now, the high temperature will be 83.76. It feels warm.\n",
      "7 day(s) from now, the high temperature will be 85.96. It feels warm.\n"
     ]
    }
   ],
   "source": [
    "n = 1\n",
    "for day in daily[1:]:\n",
    "    avg_apparent = (day['apparentTemperatureHigh'] + day['apparentTemperatureLow']) / 2\n",
    "    if avg_apparent <= 55:\n",
    "        feel = 'cold'\n",
    "    elif avg_apparent <= 65:\n",
    "        feel = 'cool'\n",
    "    elif avg_apparent <= 75:\n",
    "        feel = 'mild'\n",
    "    elif avg_apparent <= 85:\n",
    "        feel = 'warm'\n",
    "    else:\n",
    "        feel = 'hot'\n",
    "    print('{} day(s) from now, the high temperature will be {}. It feels {}.'.format(n, day['temperatureHigh'], feel))\n",
    "    n += 1"
   ]
  },
  {
   "cell_type": "markdown",
   "metadata": {
    "collapsed": true
   },
   "source": [
    "Ref: http://www.sun-sentinel.com/news/weather/sfl-blog-13-terms-20141017-story.html"
   ]
  },
  {
   "cell_type": "markdown",
   "metadata": {},
   "source": [
    "# 6) What will be the hottest day in the next week? What is the high temperature on that day?\n",
    "\n",
    "It's okay if your result looks like `1453363200`. If you want to be extra-fancy, though, format it as a **real date** - the weird number is called a **UNIX timestamp**, which might help in googling.\n",
    "\n",
    "- *Tip: It's okay to skip this if it seems too difficult!*"
   ]
  },
  {
   "cell_type": "code",
   "execution_count": 10,
   "metadata": {},
   "outputs": [
    {
     "name": "stdout",
     "output_type": "stream",
     "text": [
      "1527696000\n"
     ]
    }
   ],
   "source": [
    "days_sorted = sorted(daily, key = lambda k: k['temperatureHigh'])\n",
    "print(days_sorted[-1]['time'])"
   ]
  },
  {
   "cell_type": "markdown",
   "metadata": {},
   "source": [
    "## 7) What's the weather looking like for the next 24+ hours in Miami, Florida?\n",
    "\n",
    "I'd like to know the temperature for every hour, and if it's going to have cloud cover of more than 50% say \"{temperature} and cloudy\" instead of just the temperature. \n",
    "\n",
    "\n",
    "- *Tip: Be sure to remember how latitude and longitude are done with positive and negative numbers*\n",
    "- *Tip: How do you represent \"50%\" for cloud cover?*"
   ]
  },
  {
   "cell_type": "code",
   "execution_count": 11,
   "metadata": {},
   "outputs": [],
   "source": [
    "response_mia = requests.get('https://api.darksky.net/forecast/MY_API_KEY/25.7617,-80.1918')\n",
    "data_mia = response_mia.json()\n",
    "hourly = data_mia['hourly']['data']"
   ]
  },
  {
   "cell_type": "code",
   "execution_count": 12,
   "metadata": {},
   "outputs": [
    {
     "name": "stdout",
     "output_type": "stream",
     "text": [
      "Forecast for time 1527710400 in Miami: 86.02°F.\n",
      "Forecast for time 1527714000 in Miami: 85.9°F.\n",
      "Forecast for time 1527717600 in Miami: 85.25°F.\n",
      "Forecast for time 1527721200 in Miami: 84.22°F.\n",
      "Forecast for time 1527724800 in Miami: 82.74°F.\n",
      "Forecast for time 1527728400 in Miami: 81.32°F.\n",
      "Forecast for time 1527732000 in Miami: 79.92°F and cloudy.\n",
      "Forecast for time 1527735600 in Miami: 78.76°F and cloudy.\n",
      "Forecast for time 1527739200 in Miami: 78.19°F and cloudy.\n",
      "Forecast for time 1527742800 in Miami: 77.71°F and cloudy.\n",
      "Forecast for time 1527746400 in Miami: 77.32°F and cloudy.\n",
      "Forecast for time 1527750000 in Miami: 77.05°F and cloudy.\n",
      "Forecast for time 1527753600 in Miami: 76.75°F and cloudy.\n",
      "Forecast for time 1527757200 in Miami: 76.93°F and cloudy.\n",
      "Forecast for time 1527760800 in Miami: 76.92°F and cloudy.\n",
      "Forecast for time 1527764400 in Miami: 78.06°F and cloudy.\n",
      "Forecast for time 1527768000 in Miami: 79.56°F and cloudy.\n",
      "Forecast for time 1527771600 in Miami: 81.1°F and cloudy.\n",
      "Forecast for time 1527775200 in Miami: 82.84°F and cloudy.\n",
      "Forecast for time 1527778800 in Miami: 84.26°F and cloudy.\n",
      "Forecast for time 1527782400 in Miami: 85.28°F and cloudy.\n",
      "Forecast for time 1527786000 in Miami: 85.9°F and cloudy.\n",
      "Forecast for time 1527789600 in Miami: 86.21°F and cloudy.\n",
      "Forecast for time 1527793200 in Miami: 86.17°F and cloudy.\n",
      "Forecast for time 1527796800 in Miami: 85.83°F and cloudy.\n"
     ]
    }
   ],
   "source": [
    "hour_count = 0\n",
    "for hour in hourly:\n",
    "    if hour_count > 24:\n",
    "        break\n",
    "    if hour['cloudCover'] > 0.5:\n",
    "        weather = str(hour['temperature']) + '°F and cloudy'\n",
    "    else:\n",
    "        weather = str(hour['temperature']) + '°F'\n",
    "    print('Forecast for time {} in Miami: {}.'.format(hour['time'], weather))\n",
    "    hour_count += 1"
   ]
  },
  {
   "cell_type": "markdown",
   "metadata": {},
   "source": [
    "# 8) For the next 24-ish hours in Miami, what percent of the time is the temperature above 85 degrees?\n",
    "\n",
    "If they give you 48 hours instead of 24, that's okay.\n",
    "\n",
    "- *Tip: You might want to read up on [looping patterns](http://jonathansoma.com/lede/foundations-2017/classes/data%20structures/looping-patterns/)*"
   ]
  },
  {
   "cell_type": "code",
   "execution_count": 13,
   "metadata": {},
   "outputs": [
    {
     "name": "stdout",
     "output_type": "stream",
     "text": [
      "26.53% of the time is the temperature above 85 degrees.\n"
     ]
    }
   ],
   "source": [
    "count = 0\n",
    "for hour in hourly:\n",
    "    if hour['temperature'] > 85:\n",
    "        count += 1\n",
    "percentage = count / len(hourly)\n",
    "print('{}% of the time is the temperature above 85 degrees.'.format(round(percentage*100, 2)))"
   ]
  },
  {
   "cell_type": "markdown",
   "metadata": {},
   "source": [
    "## 9) What was the temperature in Central Park on Christmas Day, 2012? How about 2007? 2005? How far back does the API allow you to go?\n",
    "\n",
    "- *Tip: You'll need to use UNIX time, which is the number of seconds since January 1, 1970. Google can help you convert a normal date!*\n",
    "- *Tip: You'll want to use Forecast.io's \"time machine\" API, [documentation here](https://darksky.net/dev/docs/time-machine)*"
   ]
  },
  {
   "cell_type": "code",
   "execution_count": 14,
   "metadata": {},
   "outputs": [
    {
     "data": {
      "text/plain": [
       "35.22"
      ]
     },
     "execution_count": 14,
     "metadata": {},
     "output_type": "execute_result"
    }
   ],
   "source": [
    "response_cp_2012 = requests.get('https://api.darksky.net/forecast/MY_API_KEY/40.7829,-73.9654,1356411600')\n",
    "data_cp_2012 = response_cp_2012.json()\n",
    "data_cp_2012['currently']['temperature']"
   ]
  },
  {
   "cell_type": "code",
   "execution_count": 15,
   "metadata": {},
   "outputs": [
    {
     "data": {
      "text/plain": [
       "39.97"
      ]
     },
     "execution_count": 15,
     "metadata": {},
     "output_type": "execute_result"
    }
   ],
   "source": [
    "response_cp_2007 = requests.get('https://api.darksky.net/forecast/MY_API_KEY/40.7829,-73.9654,1198558800')\n",
    "data_cp_2007 = response_cp_2007.json()\n",
    "data_cp_2007['currently']['temperature']"
   ]
  },
  {
   "cell_type": "code",
   "execution_count": 16,
   "metadata": {},
   "outputs": [
    {
     "data": {
      "text/plain": [
       "38.66"
      ]
     },
     "execution_count": 16,
     "metadata": {},
     "output_type": "execute_result"
    }
   ],
   "source": [
    "response_cp_2005 = requests.get('https://api.darksky.net/forecast/MY_API_KEY/40.7829,-73.9654,1135486800')\n",
    "data_cp_2005 = response_cp_2005.json()\n",
    "data_cp_2005['currently']['temperature']"
   ]
  },
  {
   "cell_type": "code",
   "execution_count": 17,
   "metadata": {},
   "outputs": [
    {
     "data": {
      "text/plain": [
       "40"
      ]
     },
     "execution_count": 17,
     "metadata": {},
     "output_type": "execute_result"
    }
   ],
   "source": [
    "response_cp_farthest = requests.get('https://api.darksky.net/forecast/MY_API_KEY/40.7829,-73.9654,-1041361200')\n",
    "data_cp_farthest = response_cp_farthest.json()\n",
    "data_cp_farthest['currently']['temperature']"
   ]
  }
 ],
 "metadata": {
  "kernelspec": {
   "display_name": "Python 3",
   "language": "python",
   "name": "python3"
  },
  "language_info": {
   "codemirror_mode": {
    "name": "ipython",
    "version": 3
   },
   "file_extension": ".py",
   "mimetype": "text/x-python",
   "name": "python",
   "nbconvert_exporter": "python",
   "pygments_lexer": "ipython3",
   "version": "3.6.5"
  }
 },
 "nbformat": 4,
 "nbformat_minor": 1
}
