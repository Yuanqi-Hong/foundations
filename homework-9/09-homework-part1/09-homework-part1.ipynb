{
 "cells": [
  {
   "cell_type": "markdown",
   "metadata": {},
   "source": [
    "# Using APIs / Data Structures"
   ]
  },
  {
   "cell_type": "markdown",
   "metadata": {},
   "source": [
    "Using the Dark Sky Forecast API at https://developer.forecast.io, generate a sentence that describes the weather that day:  \n",
    "\n",
    "Right now it is `TEMPERATURE` degrees out and `SUMMARY`. Today will be `TEMP_FEELING` with a high of `HIGH_TEMP` and a low of `LOW_TEMP`. `RAIN_WARNING`.  \n",
    "\n",
    " - `TEMPERATURE` is the current temperature  \n",
    " - `SUMMARY` is what it currently looks like (partly cloudy, etc).  \n",
    " - `TEMP_FEELING` is whether it will be hot, warm, cold, or moderate. You will probably use `HIGH_TEMP` and your own thoughts and feelings to determine this.  \n",
    " - `HIGH_TEMP` is the high temperature for the day.  \n",
    " - `LOW_TEMP` is the low temperature for the day.  \n",
    " - `RAIN_WARNING` is something like \"bring your umbrella!\" if it is going to rain at some point during the day.  "
   ]
  },
  {
   "cell_type": "code",
   "execution_count": 1,
   "metadata": {},
   "outputs": [],
   "source": [
    "import requests"
   ]
  },
  {
   "cell_type": "code",
   "execution_count": 2,
   "metadata": {},
   "outputs": [
    {
     "name": "stdout",
     "output_type": "stream",
     "text": [
      "Right now it is 77.23 degrees out and mostly cloudy. Today will be hot with a high of 89.59 and a low of 74.46. It's not gonna rain.\n"
     ]
    }
   ],
   "source": [
    "# Getting New York's weather\n",
    "response = requests.get('https://api.darksky.net/forecast/MY_API_KEY/40.7128,-74.0060')\n",
    "data = response.json()\n",
    "\n",
    "# Getting the needed values\n",
    "temperature = data['currently']['temperature']\n",
    "summary = data['currently']['summary']\n",
    "\n",
    "    # I'm using the average of apparent temperature to determine the value of TEMP_FEELING\n",
    "days = data['daily']['data']\n",
    "today = days[0]\n",
    "avg_apparent = (today['apparentTemperatureHigh'] + today['apparentTemperatureLow']) / 2\n",
    "if avg_apparent <= 55:\n",
    "    temp_feeling = 'cold'\n",
    "elif avg_apparent <= 65:\n",
    "    temp_feeling = 'cool'\n",
    "elif avg_apparent <= 75:\n",
    "    temp_feeling = 'mild'\n",
    "elif avg_apparent <= 85:\n",
    "    temp_feeling = 'warm'\n",
    "else:\n",
    "    temp_feeling = 'hot'\n",
    "\n",
    "high_temp = today['temperatureHigh']\n",
    "low_temp = today['temperatureLow']\n",
    "\n",
    "rain_chance = today['precipProbability']\n",
    "    # Ref: https://www.thoughtco.com/chance-of-rain-3444366\n",
    "if rain_chance < 0.2:\n",
    "    rain_warning = 'It\\'s not gonna rain.'\n",
    "elif rain_chance < 0.3:\n",
    "    rain_warning = 'There\\'s only a slight chance of raining today, an umbrella would be unnecessary.'\n",
    "elif rain_chance < 0.5:\n",
    "    rain_warning = 'There\\'s a chance of raining today, bring an umbrella if you feel like putting on extra weight to your backpack.'\n",
    "else:\n",
    "    rain_warning = 'Bring an umbrella!'\n",
    "\n",
    "message = 'Right now it is {} degrees out and {}. Today will be {} with a high of {} and a low of {}. {}'.format(temperature, summary.lower(), temp_feeling, high_temp, low_temp, rain_warning)\n",
    "print(message)"
   ]
  },
  {
   "cell_type": "markdown",
   "metadata": {},
   "source": [
    "Once you've accomplished that part, use Mailgun to send yourself an email every morning at 8AM telling you the sentence. The subject line of the email should be something like \"8AM Weather forecast: January 1, 1970.\"\n",
    "\n",
    "Dates are obtained by using `datetime`, using http://strftime.org/ as a reference."
   ]
  },
  {
   "cell_type": "markdown",
   "metadata": {},
   "source": [
    "**BONUS**: List the forecasted temperatures as the day goes on."
   ]
  },
  {
   "cell_type": "code",
   "execution_count": 3,
   "metadata": {},
   "outputs": [],
   "source": [
    "# Testing out mailgun to make sure it works (has no problem sending emails.)\n",
    "# requests.post(\n",
    "#         \"https://api.mailgun.net/v3/MY_SANDBOX_DOMAIN/messages\",\n",
    "#         auth=(\"api\", \"MY_API_KEY\"),\n",
    "#         data={\"from\": \"Edward Hong <mailgun@MY_SANDBOX_DOMAIN>\",\n",
    "#               \"to\": [\"Edward.YSHF@gmail.com\"],\n",
    "#               \"subject\": \"Testing Some Mailgun Awesomness\",\n",
    "#               \"text\": \"Hi there!\"})"
   ]
  },
  {
   "cell_type": "markdown",
   "metadata": {},
   "source": [
    "### putting things together  \n",
    "(including the **BONUS** part)"
   ]
  },
  {
   "cell_type": "code",
   "execution_count": 4,
   "metadata": {},
   "outputs": [
    {
     "data": {
      "text/plain": [
       "<Response [200]>"
      ]
     },
     "execution_count": 4,
     "metadata": {},
     "output_type": "execute_result"
    }
   ],
   "source": [
    "import requests\n",
    "import datetime\n",
    "\n",
    "response = requests.get('https://api.darksky.net/forecast/MY_API_KEY/40.7128,-74.0060')\n",
    "data = response.json()\n",
    "temperature = data['currently']['temperature']\n",
    "summary = data['currently']['summary']\n",
    "days = data['daily']['data']\n",
    "today = days[0]\n",
    "avg_apparent = (today['apparentTemperatureHigh'] + today['apparentTemperatureLow']) / 2\n",
    "if avg_apparent <= 55:\n",
    "    temp_feeling = 'cold'\n",
    "elif avg_apparent <= 65:\n",
    "    temp_feeling = 'cool'\n",
    "elif avg_apparent <= 75:\n",
    "    temp_feeling = 'mild'\n",
    "elif avg_apparent <= 85:\n",
    "    temp_feeling = 'warm'\n",
    "else:\n",
    "    temp_feeling = 'hot'\n",
    "high_temp = today['temperatureHigh']\n",
    "low_temp = today['temperatureLow']\n",
    "rain_chance = today['precipProbability']\n",
    "if rain_chance < 0.2:\n",
    "    rain_warning = 'It\\'s not gonna rain.'\n",
    "elif rain_chance < 0.3:\n",
    "    rain_warning = 'There\\'s only a slight chance of raining today, an umbrella would be unnecessary.'\n",
    "elif rain_chance < 0.5:\n",
    "    rain_warning = 'There\\'s a chance of raining today, bring an umbrella if you feel like putting on extra weight to your backpack.'\n",
    "else:\n",
    "    rain_warning = 'Bring an umbrella!'\n",
    "message0 = 'Right now it is {} degrees out and {}. Today will be {} with a high of {} and a low of {}. {}\\n\\n'.format(temperature, summary.lower(), temp_feeling, high_temp, low_temp, rain_warning)\n",
    "\n",
    "hourly = data['hourly']['data']\n",
    "hour_count = 1\n",
    "message1 = 'The hourly temperature forecast for the next 24 hours is listed below:\\n'\n",
    "for hour in hourly:\n",
    "    if hour_count > 24:\n",
    "        break\n",
    "    weather = str(hour['temperature']) + '°F'\n",
    "    message1 += 'Forecast for {} in New York: {}.\\n'.format(datetime.datetime.fromtimestamp(int(hour['time'])).strftime('%Y-%m-%d %H:%M:%S'), weather)\n",
    "    hour_count += 1\n",
    "\n",
    "right_now = datetime.datetime.now()\n",
    "date_string = right_now.strftime(\"%b %d, %Y\")\n",
    "requests.post(\n",
    "        \"https://api.mailgun.net/v3/MY_SANDBOX_DOMAIN/messages\",\n",
    "        auth=(\"api\", \"MY_API_KEY\"),\n",
    "        data={\"from\": \"Edward Hong <mailgun@MY_SANDBOX_DOMAIN>\",\n",
    "              \"to\": [\"Edward.YSHF@gmail.com\"],\n",
    "              \"subject\": \"8 a.m. Weather Forecast - {}\".format(date_string),\n",
    "              \"text\": message0+message1})"
   ]
  }
 ],
 "metadata": {
  "kernelspec": {
   "display_name": "Python 3",
   "language": "python",
   "name": "python3"
  },
  "language_info": {
   "codemirror_mode": {
    "name": "ipython",
    "version": 3
   },
   "file_extension": ".py",
   "mimetype": "text/x-python",
   "name": "python",
   "nbconvert_exporter": "python",
   "pygments_lexer": "ipython3",
   "version": "3.6.5"
  }
 },
 "nbformat": 4,
 "nbformat_minor": 2
}
